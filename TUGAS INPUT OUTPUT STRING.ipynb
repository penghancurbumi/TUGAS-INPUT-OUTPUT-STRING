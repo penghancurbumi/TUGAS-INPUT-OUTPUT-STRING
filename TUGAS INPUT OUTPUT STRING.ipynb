{
 "cells": [
  {
   "cell_type": "markdown",
   "id": "1f3dfb83-bcd0-458c-b1dd-b77c01f26331",
   "metadata": {},
   "source": [
    "<hr><h1>TUGAS DASAR PEMOGRAMAN SESI 5</h1><hr>"
   ]
  },
  {
   "cell_type": "code",
   "execution_count": 1,
   "id": "3d1b7092-203d-49f9-b406-bf124d577350",
   "metadata": {},
   "outputs": [
    {
     "name": "stdin",
     "output_type": "stream",
     "text": [
      "Masukan nama anda = reza\n",
      "Masukan tanggal lahir anda = 13 april 2005\n",
      "Masukan alamat anda = ciaul pasir\n",
      "Masukan jenis kelamin anda = laki laki\n",
      "Masukan pendidikan anda = Universitas Nusa Putra\n"
     ]
    },
    {
     "name": "stdout",
     "output_type": "stream",
     "text": [
      "\n",
      "Nama  reza tanggal lahir 13 april 2005 alamat rumah ciaul pasir jenis kelamin laki laki kuliah di Universitas Nusa Putra\n"
     ]
    }
   ],
   "source": [
    "nama = input(\"Masukan nama anda =\")\n",
    "tgl_lahir = input(\"Masukan tanggal lahir anda =\")\n",
    "alamat = input(\"Masukan alamat anda =\")\n",
    "Jk = input(\"Masukan jenis kelamin anda =\")\n",
    "sekolah = input(\"Masukan pendidikan anda =\")\n",
    "\n",
    "biodata = \"\\nNama  {} tanggal lahir {} alamat rumah {} jenis kelamin {} kuliah di {}\".format(nama,tgl_lahir,alamat,Jk,sekolah)\n",
    "print(biodata)"
   ]
  },
  {
   "cell_type": "code",
   "execution_count": 15,
   "id": "047e3e00-4ed3-40fe-b427-1f1793be2720",
   "metadata": {},
   "outputs": [
    {
     "name": "stdout",
     "output_type": "stream",
     "text": [
      " Nusa ut\n",
      "\n",
      "Putra sukabumi\n",
      "Ursarki\n"
     ]
    }
   ],
   "source": [
    "univ = \"Universitas Nusa Putra sukabumi\"\n",
    "print(univ[11:17] + univ[18:20])\n",
    "print(univ[-5:10])\n",
    "print(univ[17:])\n",
    "print(univ[::5])"
   ]
  },
  {
   "cell_type": "code",
   "execution_count": null,
   "id": "8e5cb0e5-23ad-44f8-9c52-25cb4c4410fd",
   "metadata": {},
   "outputs": [],
   "source": []
  }
 ],
 "metadata": {
  "kernelspec": {
   "display_name": "Python 3 (ipykernel)",
   "language": "python",
   "name": "python3"
  },
  "language_info": {
   "codemirror_mode": {
    "name": "ipython",
    "version": 3
   },
   "file_extension": ".py",
   "mimetype": "text/x-python",
   "name": "python",
   "nbconvert_exporter": "python",
   "pygments_lexer": "ipython3",
   "version": "3.11.7"
  }
 },
 "nbformat": 4,
 "nbformat_minor": 5
}
